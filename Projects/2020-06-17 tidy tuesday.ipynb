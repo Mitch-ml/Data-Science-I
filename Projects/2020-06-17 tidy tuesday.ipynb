{
 "cells": [
  {
   "cell_type": "markdown",
   "id": "interracial-essex",
   "metadata": {},
   "source": [
    "## Tidy Tuesday\n",
    "#### 2020-06-17\n",
    "#### American Slavery and Juneteenth\n",
    "\n",
    "A brief description of the data set.\n",
    "\n",
    ">The last dataset, african_names.csv records a history of freed slaves. These slaves were mostly freed during ship transport, had their names and ages recorded and were returned to free ports. Please note that while the data is accurate as historical records can be, often the rescuers and the Africans did not speak the same language, so names and ages are approximate.\n",
    "\n",
    "More information and history on the data can be found [here](https://github.com/rfordatascience/tidytuesday/tree/master/data/2020/2020-06-16).\n",
    "\n",
    "Please note that this is a follow-along to Julia Silge's tutorial on [youtube](https://www.youtube.com/watch?v=z4oQh_5YMVk&t=142s). Her tutorials are in R, I'm trying to translate them to python to better develop my knowledge of the language."
   ]
  },
  {
   "cell_type": "code",
   "execution_count": 1,
   "id": "armed-person",
   "metadata": {},
   "outputs": [],
   "source": [
    "import numpy as np\n",
    "import pandas as pd\n",
    "import seaborn as sns\n",
    "import matplotlib.pyplot as plt\n",
    "\n",
    "plt.style.use('fivethirtyeight')\n",
    "plt.style.use('ggplot')\n",
    "\n",
    "df = pd.read_csv('https://raw.githubusercontent.com/rfordatascience/tidytuesday/master/data/2020/2020-06-16/african_names.csv')"
   ]
  },
  {
   "cell_type": "markdown",
   "id": "serial-flash",
   "metadata": {},
   "source": [
    "Let's start by just looking at the data. Note that under Dtype, columns listed as objects are essentially categorical variables."
   ]
  },
  {
   "cell_type": "code",
   "execution_count": 2,
   "id": "invalid-hopkins",
   "metadata": {},
   "outputs": [
    {
     "name": "stdout",
     "output_type": "stream",
     "text": [
      "<class 'pandas.core.frame.DataFrame'>\n",
      "RangeIndex: 91490 entries, 0 to 91489\n",
      "Data columns (total 11 columns):\n",
      " #   Column          Non-Null Count  Dtype  \n",
      "---  ------          --------------  -----  \n",
      " 0   id              91490 non-null  int64  \n",
      " 1   voyage_id       91490 non-null  int64  \n",
      " 2   name            91490 non-null  object \n",
      " 3   gender          78612 non-null  object \n",
      " 4   age             90364 non-null  float64\n",
      " 5   height          86670 non-null  float64\n",
      " 6   ship_name       91489 non-null  object \n",
      " 7   year_arrival    91490 non-null  int64  \n",
      " 8   port_disembark  91490 non-null  object \n",
      " 9   port_embark     90364 non-null  object \n",
      " 10  country_origin  12086 non-null  object \n",
      "dtypes: float64(2), int64(3), object(6)\n",
      "memory usage: 7.7+ MB\n"
     ]
    }
   ],
   "source": [
    "df.info()"
   ]
  },
  {
   "cell_type": "markdown",
   "id": "external-findings",
   "metadata": {},
   "source": [
    "Notice how in the Non-Null column not all the values are equal to the row total of 91,490? That means that we're missing data. Let's take a closer look."
   ]
  },
  {
   "cell_type": "code",
   "execution_count": 3,
   "id": "traditional-register",
   "metadata": {},
   "outputs": [
    {
     "data": {
      "text/plain": [
       "id                    0\n",
       "voyage_id             0\n",
       "name                  0\n",
       "gender            12878\n",
       "age                1126\n",
       "height             4820\n",
       "ship_name             1\n",
       "year_arrival          0\n",
       "port_disembark        0\n",
       "port_embark        1126\n",
       "country_origin    79404\n",
       "dtype: int64"
      ]
     },
     "execution_count": 3,
     "metadata": {},
     "output_type": "execute_result"
    }
   ],
   "source": [
    "df.isnull().sum()"
   ]
  },
  {
   "cell_type": "markdown",
   "id": "adopted-crowd",
   "metadata": {},
   "source": [
    "We also look at the percent of data that we're missing for each column"
   ]
  },
  {
   "cell_type": "code",
   "execution_count": 4,
   "id": "personalized-bowling",
   "metadata": {},
   "outputs": [
    {
     "data": {
      "text/plain": [
       "country_origin    0.867898\n",
       "gender            0.140759\n",
       "height            0.052683\n",
       "port_embark       0.012307\n",
       "age               0.012307\n",
       "ship_name         0.000011\n",
       "port_disembark    0.000000\n",
       "year_arrival      0.000000\n",
       "name              0.000000\n",
       "voyage_id         0.000000\n",
       "id                0.000000\n",
       "dtype: float64"
      ]
     },
     "execution_count": 4,
     "metadata": {},
     "output_type": "execute_result"
    }
   ],
   "source": [
    "df.isnull().sum().sort_values(ascending = False)/len(df.index)"
   ]
  },
  {
   "cell_type": "markdown",
   "id": "thousand-language",
   "metadata": {},
   "source": [
    "We'll keep in mind that we have missing data moving forward but for now let's look at the total number of people who came to each port."
   ]
  },
  {
   "cell_type": "code",
   "execution_count": 5,
   "id": "beautiful-episode",
   "metadata": {},
   "outputs": [
    {
     "data": {
      "text/plain": [
       "Freetown               81009\n",
       "Havana                 10058\n",
       "Bahamas unspecified      183\n",
       "Kingston, Jamaica        144\n",
       "St. Helena                96\n",
       "Name: port_disembark, dtype: int64"
      ]
     },
     "execution_count": 5,
     "metadata": {},
     "output_type": "execute_result"
    }
   ],
   "source": [
    "df['port_disembark'].value_counts()"
   ]
  },
  {
   "cell_type": "markdown",
   "id": "applied-slovenia",
   "metadata": {},
   "source": [
    "We can also look and see where each ship embarked from. Just note there are a lot of ports so we'll limit our output to just the first ten."
   ]
  },
  {
   "cell_type": "code",
   "execution_count": 6,
   "id": "billion-playback",
   "metadata": {},
   "outputs": [
    {
     "data": {
      "text/plain": [
       "Lagos                         15730\n",
       "Bonny                         14449\n",
       "Ouidah                         8306\n",
       "Old Calabar                    7192\n",
       "Gallinhas                      4522\n",
       "Bight of Benin unspecified     3958\n",
       "Rio Pongo                      2922\n",
       "Badagry                        2729\n",
       "Cameroons River                2165\n",
       "Sierra Leone unspecified       2091\n",
       "Name: port_embark, dtype: int64"
      ]
     },
     "execution_count": 6,
     "metadata": {},
     "output_type": "execute_result"
    }
   ],
   "source": [
    "df['port_embark'].value_counts().head(10)"
   ]
  },
  {
   "cell_type": "markdown",
   "id": "solid-coverage",
   "metadata": {},
   "source": [
    "We can also take a look at the years this data set encompasses."
   ]
  },
  {
   "cell_type": "code",
   "execution_count": 7,
   "id": "divine-middle",
   "metadata": {},
   "outputs": [
    {
     "data": {
      "text/plain": [
       "count    91490.000000\n",
       "mean      1831.402383\n",
       "std          9.524704\n",
       "min       1808.000000\n",
       "25%       1826.000000\n",
       "50%       1832.000000\n",
       "75%       1837.000000\n",
       "max       1862.000000\n",
       "Name: year_arrival, dtype: float64"
      ]
     },
     "execution_count": 7,
     "metadata": {},
     "output_type": "execute_result"
    }
   ],
   "source": [
    "df['year_arrival'].describe()"
   ]
  },
  {
   "cell_type": "markdown",
   "id": "saved-quilt",
   "metadata": {},
   "source": [
    "From this we can see we're looking a people who were freed between 1808 and 1862. Let's plot this to get a better visual"
   ]
  },
  {
   "cell_type": "code",
   "execution_count": 8,
   "id": "ahead-diagram",
   "metadata": {},
   "outputs": [
    {
     "data": {
      "image/png": "[encoded data removed]",
      "text/plain": [
       "<Figure size 432x288 with 1 Axes>"
      ]
     },
     "metadata": {},
     "output_type": "display_data"
    }
   ],
   "source": [
    "sns.histplot(df['year_arrival'],\n",
    "            bins=20,\n",
    "            alpha=0.7);"
   ]
  },
  {
   "cell_type": "markdown",
   "id": "indoor-basics",
   "metadata": {},
   "source": [
    "Now let's take a look at the people who were freed before 1850, we'll group by arrival year and find the mean age."
   ]
  },
  {
   "cell_type": "code",
   "execution_count": 32,
   "id": "dominant-restaurant",
   "metadata": {},
   "outputs": [
    {
     "data": {
      "image/png": "[encoded data removed]",
      "text/plain": [
       "<Figure size 432x288 with 1 Axes>"
      ]
     },
     "metadata": {},
     "output_type": "display_data"
    }
   ],
   "source": [
    "df_1850 = (\n",
    "    df.loc[df['year_arrival'] < 1850, ['age', 'year_arrival']]\n",
    "    .copy()\n",
    "    .dropna()\n",
    "    .groupby('year_arrival')\n",
    "    .mean()\n",
    ")\n",
    "\n",
    "sns.lineplot(\n",
    "    x='year_arrival',\n",
    "    y='age',\n",
    "    data=df_1850,\n",
    "    color=[0,114/255,178/255],\n",
    "    alpha=0.7\n",
    ")\n",
    "\n",
    "sns.regplot(x=df_1850.index,\n",
    "            y='age',\n",
    "            data=df_1850,\n",
    "            scatter=False,\n",
    "            ci=False,\n",
    "            line_kws={'lw':2, 'alpha':0.7, 'color':'black'})\n",
    "\n",
    "plt.ylim(0, None);"
   ]
  },
  {
   "cell_type": "markdown",
   "id": "japanese-universe",
   "metadata": {},
   "source": [
    "It's truly shocking to see just how young these people were.\n",
    "\n",
    "Note that the code below will plot the same graph, but I prefer the ever so subtle layout that seaborn provides.\n",
    "```python\n",
    "df_1850.plot()\n",
    "plt.ylim(0, None);\n",
    "```\n",
    "\n",
    "Now let's take a look at some boxplots comparing gender."
   ]
  },
  {
   "cell_type": "code",
   "execution_count": 31,
   "id": "acquired-gravity",
   "metadata": {},
   "outputs": [
    {
     "data": {
      "image/png": "[encoded data removed]",
      "text/plain": [
       "<Figure size 432x288 with 1 Axes>"
      ]
     },
     "metadata": {},
     "output_type": "display_data"
    }
   ],
   "source": [
    "ax = sns.boxplot(\n",
    "    x='gender',\n",
    "    y='year_arrival',\n",
    "    hue='gender',\n",
    "    data=df\n",
    ")\n",
    "ax.legend_.remove();"
   ]
  },
  {
   "cell_type": "code",
   "execution_count": 30,
   "id": "talented-activity",
   "metadata": {},
   "outputs": [
    {
     "data": {
      "image/png": "[encoded data removed]",
      "text/plain": [
       "<Figure size 432x288 with 1 Axes>"
      ]
     },
     "metadata": {},
     "output_type": "display_data"
    }
   ],
   "source": [
    "ax = sns.boxplot(\n",
    "    x='gender',\n",
    "    y='age',\n",
    "    hue='gender',\n",
    "    data=df\n",
    ")\n",
    "ax.legend_.remove();"
   ]
  }
 ],
 "metadata": {
  "kernelspec": {
   "display_name": "w2v",
   "language": "python",
   "name": "w2v"
  },
  "language_info": {
   "codemirror_mode": {
    "name": "ipython",
    "version": 3
   },
   "file_extension": ".py",
   "mimetype": "text/x-python",
   "name": "python",
   "nbconvert_exporter": "python",
   "pygments_lexer": "ipython3",
   "version": "3.7.9"
  }
 },
 "nbformat": 4,
 "nbformat_minor": 5
}
